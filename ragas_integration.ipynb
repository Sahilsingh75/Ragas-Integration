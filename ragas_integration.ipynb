{
 "cells": [
  {
   "cell_type": "code",
   "execution_count": 3,
   "id": "7ea8bee0-59c1-4f44-8975-60dbd5c0f134",
   "metadata": {},
   "outputs": [
    {
     "data": {
      "application/vnd.jupyter.widget-view+json": {
       "model_id": "fc2f25383a614920857da67514dbb2ea",
       "version_major": 2,
       "version_minor": 0
      },
      "text/plain": [
       "Evaluating:   0%|          | 0/30 [00:00<?, ?it/s]"
      ]
     },
     "metadata": {},
     "output_type": "display_data"
    },
    {
     "name": "stdout",
     "output_type": "stream",
     "text": [
      "✅ RAGAs evaluation complete. Results saved to 'ragas_output.json'.\n"
     ]
    }
   ],
   "source": [
    "import json\n",
    "import os\n",
    "from datasets import Dataset\n",
    "from ragas import evaluate\n",
    "from ragas.metrics import faithfulness, answer_relevancy, context_precision\n",
    "\n",
    "\n",
    "with open(\"logs.json\", \"r\", encoding=\"utf-8\") as f:\n",
    "    log_data = json.load(f)\n",
    "\n",
    "\n",
    "flat_items = []\n",
    "for block in log_data:\n",
    "    for item in block[\"items\"]:\n",
    "        question = \" \".join(i[\"context\"] for i in item[\"input\"] if i[\"role\"] == \"user\")\n",
    "        context = \" \".join(i[\"context\"] for i in item[\"input\"] if i[\"role\"] == \"system\")\n",
    "        response = \" \".join(i.get(\"content\", \"\") for i in item.get(\"expectedOutput\", []))\n",
    "        reference = response\n",
    "\n",
    "        flat_items.append({\n",
    "            \"id\": item[\"id\"],\n",
    "            \"question\": question,\n",
    "            \"response\": response,\n",
    "            \"reference\": reference,\n",
    "            \"retrieved_contexts\": [context]  \n",
    "        })\n",
    "\n",
    "\n",
    "ds = Dataset.from_list(flat_items)\n",
    "\n",
    "\n",
    "# ----------------------------------------------------Evaluate----------------------------------------------------------------\n",
    "results = evaluate(\n",
    "    ds,\n",
    "    metrics=[faithfulness, answer_relevancy, context_precision],\n",
    "    raise_exceptions=True\n",
    ")\n",
    "\n",
    "\n",
    "score_df = results.to_pandas()\n",
    "output_json = []\n",
    "\n",
    "for i, row in enumerate(score_df.itertuples(index=False)):\n",
    "    output_json.append({\n",
    "        \"id\": flat_items[i][\"id\"],\n",
    "        \"faithfulness\": round(row.faithfulness, 3),\n",
    "        \"answer_relevancy\": round(row.answer_relevancy, 3),\n",
    "        \"context_precision\": round(row.context_precision, 3)\n",
    "    })\n",
    "\n",
    "with open(\"ragas_output.json\", \"w\", encoding=\"utf-8\") as file:\n",
    "    json.dump(output_json, file, indent=2)\n",
    "\n",
    "print(\"RAGAs evaluation complete. Results saved to 'ragas_output.json'.\")\n"
   ]
  },
  {
   "cell_type": "code",
   "execution_count": 5,
   "id": "b7faf0f4-4d8b-4206-a955-e2860e94537c",
   "metadata": {},
   "outputs": [
    {
     "name": "stdout",
     "output_type": "stream",
     "text": [
      "Saved as ragas_output.csv\n"
     ]
    }
   ],
   "source": [
    "import json\n",
    "import pandas as pd\n",
    "\n",
    "with open(\"ragas_output.json\", \"r\", encoding=\"utf-8\") as f:\n",
    "    data = json.load(f)\n",
    "\n",
    "df = pd.DataFrame(data)\n",
    "\n",
    "df.to_csv(\"ragas_output.csv\", index=False)\n",
    "print(\"Saved as ragas_output.csv\")\n"
   ]
  }
 ],
 "metadata": {
  "kernelspec": {
   "display_name": "Python 3 (ipykernel)",
   "language": "python",
   "name": "python3"
  },
  "language_info": {
   "codemirror_mode": {
    "name": "ipython",
    "version": 3
   },
   "file_extension": ".py",
   "mimetype": "text/x-python",
   "name": "python",
   "nbconvert_exporter": "python",
   "pygments_lexer": "ipython3",
   "version": "3.10.11"
  }
 },
 "nbformat": 4,
 "nbformat_minor": 5
}
